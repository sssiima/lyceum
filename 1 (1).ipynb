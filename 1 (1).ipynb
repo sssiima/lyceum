{
 "cells": [
  {
   "cell_type": "markdown",
   "id": "c0b2ae4b",
   "metadata": {},
   "source": [
    "1. Import the numpy package under the name np (★☆☆)"
   ]
  },
  {
   "cell_type": "code",
   "execution_count": 5,
   "id": "b0a38340",
   "metadata": {
    "scrolled": true
   },
   "outputs": [
    {
     "name": "stdout",
     "output_type": "stream",
     "text": [
      "1.24.0\n"
     ]
    }
   ],
   "source": [
    "import numpy as np"
   ]
  },
  {
   "cell_type": "markdown",
   "id": "30c00d1e",
   "metadata": {},
   "source": [
    "2. Print the numpy version and the configuration (★☆☆)"
   ]
  },
  {
   "cell_type": "code",
   "execution_count": null,
   "id": "d0fdd120",
   "metadata": {},
   "outputs": [],
   "source": [
    "print(np.__version__)"
   ]
  },
  {
   "cell_type": "markdown",
   "id": "e2f71a88",
   "metadata": {},
   "source": [
    "3. Create a null vector of size 10 (★☆☆)"
   ]
  },
  {
   "cell_type": "code",
   "execution_count": 7,
   "id": "bea19e47",
   "metadata": {},
   "outputs": [
    {
     "name": "stdout",
     "output_type": "stream",
     "text": [
      "[0. 0. 0. 0. 0. 0. 0. 0. 0. 0.]\n"
     ]
    }
   ],
   "source": [
    "null_vector = np.zeros(10)"
   ]
  },
  {
   "cell_type": "markdown",
   "id": "5531e827",
   "metadata": {},
   "source": [
    "6. Create a null vector of size 10 but the fifth value which is 1 (★☆☆)"
   ]
  },
  {
   "cell_type": "code",
   "execution_count": 8,
   "id": "be62895b",
   "metadata": {},
   "outputs": [
    {
     "name": "stdout",
     "output_type": "stream",
     "text": [
      "[0. 0. 0. 0. 1. 0. 0. 0. 0. 0.]\n"
     ]
    }
   ],
   "source": [
    "null_vector_sec = np.zeros(10)\n",
    "null_vector_sec[4] = 1"
   ]
  },
  {
   "cell_type": "markdown",
   "id": "8bc2055b",
   "metadata": {},
   "source": [
    "7. Create a vector with values ranging from 10 to 49 (★☆☆)"
   ]
  },
  {
   "cell_type": "code",
   "execution_count": 12,
   "id": "f7320d0b",
   "metadata": {},
   "outputs": [
    {
     "name": "stdout",
     "output_type": "stream",
     "text": [
      "[10 11 12 13 14 15 16 17 18 19 20 21 22 23 24 25 26 27 28 29 30 31 32 33\n",
      " 34 35 36 37 38 39 40 41 42 43 44 45 46 47 48 49]\n"
     ]
    }
   ],
   "source": [
    "vector = np.arange(10, 50)"
   ]
  },
  {
   "cell_type": "markdown",
   "id": "a62a4f40",
   "metadata": {},
   "source": [
    "8. Reverse a vector (first element becomes last) (★☆☆)"
   ]
  },
  {
   "cell_type": "code",
   "execution_count": 97,
   "id": "5c6af2c3",
   "metadata": {},
   "outputs": [],
   "source": [
    "vector = vector[::-1]"
   ]
  },
  {
   "cell_type": "markdown",
   "id": "0ab0f35d",
   "metadata": {},
   "source": [
    "9. Create a 3x3 matrix with values ranging from 0 to 8 (★☆☆)"
   ]
  },
  {
   "cell_type": "code",
   "execution_count": 10,
   "id": "b5712e53",
   "metadata": {},
   "outputs": [
    {
     "name": "stdout",
     "output_type": "stream",
     "text": [
      "[[0 1 2]\n",
      " [3 4 5]\n",
      " [6 7 8]]\n"
     ]
    }
   ],
   "source": [
    "matrix = np.arange(0, 9).reshape(3, 3)"
   ]
  },
  {
   "cell_type": "markdown",
   "id": "a5e9e555",
   "metadata": {},
   "source": [
    "10. Find indices of non-zero elements from [1,2,0,0,4,0] (★☆☆)"
   ]
  },
  {
   "cell_type": "code",
   "execution_count": 14,
   "id": "7676b585",
   "metadata": {},
   "outputs": [
    {
     "name": "stdout",
     "output_type": "stream",
     "text": [
      "0\n",
      "1\n",
      "4\n"
     ]
    }
   ],
   "source": [
    "vector_sec = [1, 2, 0, 0, 4, 0]\n",
    "for elem in vector_sec:\n",
    "    if elem != 0:\n",
    "        print(vector_sec.index(elem))"
   ]
  },
  {
   "cell_type": "markdown",
   "id": "8d58d1f3",
   "metadata": {},
   "source": [
    "11. Create a 3x3 identity matrix (★☆☆)"
   ]
  },
  {
   "cell_type": "code",
   "execution_count": 15,
   "id": "caff487c",
   "metadata": {},
   "outputs": [
    {
     "name": "stdout",
     "output_type": "stream",
     "text": [
      "[[1. 0. 0.]\n",
      " [0. 1. 0.]\n",
      " [0. 0. 1.]]\n"
     ]
    }
   ],
   "source": [
    "matrix_identity = np.identity(3)"
   ]
  },
  {
   "cell_type": "markdown",
   "id": "894f33d9",
   "metadata": {},
   "source": [
    "12. Create a 3x3x3 array with random values (★☆☆)"
   ]
  },
  {
   "cell_type": "code",
   "execution_count": 18,
   "id": "e197bde1",
   "metadata": {},
   "outputs": [
    {
     "name": "stdout",
     "output_type": "stream",
     "text": [
      "[[[0.80921723 0.54268369 0.45530205]\n",
      "  [0.8592958  0.14353476 0.34909432]\n",
      "  [0.57066562 0.72639847 0.30941867]]\n",
      "\n",
      " [[0.02885841 0.31881369 0.84443905]\n",
      "  [0.90294466 0.83677744 0.33564003]\n",
      "  [0.63261214 0.72605031 0.28497999]]\n",
      "\n",
      " [[0.8567467  0.71057648 0.50909163]\n",
      "  [0.51664135 0.01882926 0.96735054]\n",
      "  [0.48069859 0.68274086 0.65090662]]]\n"
     ]
    }
   ],
   "source": [
    "import random\n",
    "array = np.random.random((3, 3, 3))"
   ]
  },
  {
   "cell_type": "markdown",
   "id": "dad5788a",
   "metadata": {},
   "source": [
    "13. Create a 10x10 array with random values and find the minimum and maximum values (★☆☆)"
   ]
  },
  {
   "cell_type": "code",
   "execution_count": 21,
   "id": "10cbd78d",
   "metadata": {},
   "outputs": [
    {
     "name": "stdout",
     "output_type": "stream",
     "text": [
      "[[0.70746582 0.83751282 0.08463434 0.81569981 0.47511827 0.66156051\n",
      "  0.10900349 0.67451863 0.8685436  0.74097968]\n",
      " [0.87933274 0.08609954 0.03977697 0.20769917 0.71692376 0.34162844\n",
      "  0.86161816 0.23441099 0.15057702 0.64398178]\n",
      " [0.31941162 0.13929362 0.53630221 0.77825731 0.48062172 0.25425294\n",
      "  0.56913801 0.10238471 0.75968762 0.4085381 ]\n",
      " [0.39406283 0.23386419 0.34041538 0.50064709 0.77832056 0.56168896\n",
      "  0.8854819  0.75307512 0.71655326 0.97874523]\n",
      " [0.90260874 0.81624176 0.97957527 0.29269667 0.19835291 0.95667064\n",
      "  0.30367117 0.7348582  0.67712955 0.78814268]\n",
      " [0.09979144 0.13055749 0.4666435  0.04875786 0.48756104 0.49657043\n",
      "  0.11352036 0.4774261  0.67766808 0.34322672]\n",
      " [0.97626559 0.14379254 0.13718953 0.56057326 0.38418995 0.79410434\n",
      "  0.24217701 0.22252654 0.08091171 0.60453891]\n",
      " [0.21222632 0.50990785 0.44930802 0.12651048 0.31640091 0.62652731\n",
      "  0.15997001 0.34812598 0.43652035 0.42609173]\n",
      " [0.04446947 0.13001416 0.90927224 0.54763914 0.82211351 0.01632241\n",
      "  0.75284657 0.92549991 0.01771236 0.23241272]\n",
      " [0.75822182 0.87992222 0.66643803 0.83083348 0.34533397 0.69545805\n",
      "  0.43768542 0.17986509 0.1391808  0.03467905]] 0.016322408143420786 0.9795752736249791\n"
     ]
    }
   ],
   "source": [
    "array_new = np.random.random((10, 10))\n",
    "minimum = array_new.min()\n",
    "maximum = array_new.max()"
   ]
  },
  {
   "cell_type": "markdown",
   "id": "d6b6d5fe",
   "metadata": {},
   "source": [
    "14. Create a random vector of size 30 and find the mean value (★☆☆)"
   ]
  },
  {
   "cell_type": "code",
   "execution_count": 24,
   "id": "75390f51",
   "metadata": {},
   "outputs": [
    {
     "name": "stdout",
     "output_type": "stream",
     "text": [
      "[0.20436706 0.54744643 0.26208035 0.15481643 0.04338695 0.45802489\n",
      " 0.18983874 0.01168502 0.83655319 0.29286491 0.2271274  0.46201973\n",
      " 0.38177106 0.22230996 0.75872916 0.25047047 0.56171212 0.52405299\n",
      " 0.28819686 0.56291714 0.51501495 0.26165661 0.46342768 0.91698079\n",
      " 0.66315575 0.69847269 0.48473275 0.60709473 0.53654346 0.73447653] 0.43739756106913513\n"
     ]
    }
   ],
   "source": [
    "random_vector = np.random.random(30)\n",
    "mean_value = random_vector.mean()"
   ]
  },
  {
   "cell_type": "raw",
   "id": "086dead1",
   "metadata": {},
   "source": [
    "15. Create a 2d array with 1 on the border and 0 inside (★☆☆)"
   ]
  },
  {
   "cell_type": "code",
   "execution_count": 25,
   "id": "1983389b",
   "metadata": {},
   "outputs": [
    {
     "name": "stdout",
     "output_type": "stream",
     "text": [
      "[[1. 1. 1. 1. 1. 1.]\n",
      " [1. 0. 0. 0. 0. 1.]\n",
      " [1. 0. 0. 0. 0. 1.]\n",
      " [1. 0. 0. 0. 0. 1.]\n",
      " [1. 0. 0. 0. 0. 1.]\n",
      " [1. 1. 1. 1. 1. 1.]]\n"
     ]
    }
   ],
   "source": [
    "array_2d = np.ones((random.randint(3, 6), random.randint(3, 6)))\n",
    "array_2d[1:-1, 1:-1] = 0"
   ]
  },
  {
   "cell_type": "markdown",
   "id": "b3181513",
   "metadata": {},
   "source": [
    "17. What is the result of the following expression? (★☆☆)\n",
    "0 * np.nan\n",
    "np.nan == np.nan\n",
    "np.inf > np.nan\n",
    "np.nan - np.nan\n",
    "np.nan in set([np.nan])\n",
    "0.3 == 3 * 0.1"
   ]
  },
  {
   "cell_type": "code",
   "execution_count": 38,
   "id": "ba1fff7d",
   "metadata": {},
   "outputs": [
    {
     "data": {
      "text/plain": [
       "False"
      ]
     },
     "execution_count": 38,
     "metadata": {},
     "output_type": "execute_result"
    }
   ],
   "source": [
    "0 * np.nan #  nan\n",
    "np.nan == np.nan #  False\n",
    "np.inf > np.nan #  False\n",
    "np.nan - np.nan #  nan\n",
    "np.nan in set([np.nan]) #  True\n",
    "0.3 == 3 * 0.1 #  False"
   ]
  },
  {
   "cell_type": "markdown",
   "id": "9332f753",
   "metadata": {},
   "source": [
    "19. Create a 8x8 matrix and fill it with a checkerboard pattern (★☆☆)"
   ]
  },
  {
   "cell_type": "code",
   "execution_count": 39,
   "id": "8a1599e3",
   "metadata": {},
   "outputs": [
    {
     "name": "stdout",
     "output_type": "stream",
     "text": [
      "[[0. 1. 0. 1. 0. 1. 0. 1.]\n",
      " [1. 0. 1. 0. 1. 0. 1. 0.]\n",
      " [0. 1. 0. 1. 0. 1. 0. 1.]\n",
      " [1. 0. 1. 0. 1. 0. 1. 0.]\n",
      " [0. 1. 0. 1. 0. 1. 0. 1.]\n",
      " [1. 0. 1. 0. 1. 0. 1. 0.]\n",
      " [0. 1. 0. 1. 0. 1. 0. 1.]\n",
      " [1. 0. 1. 0. 1. 0. 1. 0.]]\n"
     ]
    }
   ],
   "source": [
    "matrix_eight = np.zeros((8, 8))\n",
    "matrix_eight[1::2, ::2] = 1\n",
    "matrix_eight[::2, 1::2] = 1"
   ]
  },
  {
   "cell_type": "markdown",
   "id": "a63eb3f9",
   "metadata": {},
   "source": [
    "20. Consider a (6,7,8) shape array, what is the index (x,y,z) of the 100th element? (★☆☆)"
   ]
  },
  {
   "cell_type": "code",
   "execution_count": 43,
   "id": "6acde69d",
   "metadata": {},
   "outputs": [
    {
     "name": "stdout",
     "output_type": "stream",
     "text": [
      "(1, 5, 3)\n"
     ]
    }
   ],
   "source": [
    "print(np.unravel_index(99, (6, 7, 8)))"
   ]
  },
  {
   "cell_type": "markdown",
   "id": "61cb16a6",
   "metadata": {},
   "source": [
    "25. Given a 1D array, negate all elements which are between 3 and 8, in place. (★☆☆)"
   ]
  },
  {
   "cell_type": "code",
   "execution_count": 44,
   "id": "f7ce9d73",
   "metadata": {},
   "outputs": [
    {
     "name": "stdout",
     "output_type": "stream",
     "text": [
      "[ 0  1  2  3 -4 -5 -6 -7  8  9 10]\n"
     ]
    }
   ],
   "source": [
    "arr = np.arange(11)\n",
    "arr[(3 < arr) & (arr < 8)] *= -1"
   ]
  },
  {
   "cell_type": "markdown",
   "id": "7fcaa1a9",
   "metadata": {},
   "source": [
    "28. What are the result of the following expressions? (★☆☆)\n",
    "np.array(0) / np.array(0)\n",
    "np.array(0) // np.array(0)\n",
    "np.array([np.nan]).astype(int).astype(float)"
   ]
  },
  {
   "cell_type": "code",
   "execution_count": 47,
   "id": "41649ece",
   "metadata": {},
   "outputs": [
    {
     "name": "stderr",
     "output_type": "stream",
     "text": [
      "/var/folders/k7/t4wcx5c91hg141g_z8r9nmbh0000gp/T/ipykernel_9056/1202261281.py:3: RuntimeWarning: invalid value encountered in cast\n",
      "  np.array([np.nan]).astype(int).astype(float)\n"
     ]
    },
    {
     "data": {
      "text/plain": [
       "array([-9.22337204e+18])"
      ]
     },
     "execution_count": 47,
     "metadata": {},
     "output_type": "execute_result"
    }
   ],
   "source": [
    "np.array(0) / np.array(0) #  nan\n",
    "np.array(0) // np.array(0) #  0\n",
    "np.array([np.nan]).astype(int).astype(float) #  array([-9.22337204e+18])"
   ]
  },
  {
   "cell_type": "markdown",
   "id": "2cc28a1d",
   "metadata": {},
   "source": [
    "30. How to find common values between two arrays? (★☆☆)"
   ]
  },
  {
   "cell_type": "code",
   "execution_count": 64,
   "id": "4cc6db40",
   "metadata": {},
   "outputs": [
    {
     "name": "stdout",
     "output_type": "stream",
     "text": [
      "[1 2 1 2 0 3 3 2 3 2] [4 1 4 1 1 4 0 2 2 0]\n",
      "[0 1 2]\n"
     ]
    }
   ],
   "source": [
    "array_1 = np.array([random.randint(0, 4) for i in range(10)])\n",
    "array_2 = np.array([random.randint(0, 4) for i in range(10)])\n",
    "print(array_1, array_2)\n",
    "print(np.intersect1d(array_1, array_2))"
   ]
  },
  {
   "cell_type": "markdown",
   "id": "ec45c795",
   "metadata": {},
   "source": [
    "40. Create a random vector of size 10 and sort it (★★☆)"
   ]
  },
  {
   "cell_type": "code",
   "execution_count": 69,
   "id": "76fd2ebe",
   "metadata": {},
   "outputs": [
    {
     "name": "stdout",
     "output_type": "stream",
     "text": [
      "[0.10617671 0.12953375 0.15045287 0.16741929 0.25883882 0.47664666\n",
      " 0.48434587 0.52939972 0.54300928 0.61800703]\n"
     ]
    }
   ],
   "source": [
    "ran_vector = sorted(np.random.random(10))\n",
    "#  или\n",
    "ran_vector = np.random.random(10)\n",
    "ran_vector.sort()"
   ]
  },
  {
   "cell_type": "markdown",
   "id": "5299ca71",
   "metadata": {},
   "source": [
    "42. Consider two random array A and B, check if they are equal (★★☆)"
   ]
  },
  {
   "cell_type": "code",
   "execution_count": 73,
   "id": "6e798917",
   "metadata": {},
   "outputs": [
    {
     "data": {
      "text/plain": [
       "False"
      ]
     },
     "execution_count": 73,
     "metadata": {},
     "output_type": "execute_result"
    }
   ],
   "source": [
    "array_A, array_B = np.random.random(5), np.random.random(5)\n",
    "np.allclose(array_A, array_B)"
   ]
  },
  {
   "cell_type": "markdown",
   "id": "f440902c",
   "metadata": {},
   "source": [
    "44. Consider a random 10x2 matrix representing cartesian coordinates, convert them to polar coordinates (★★☆)"
   ]
  },
  {
   "cell_type": "code",
   "execution_count": 83,
   "id": "19c9003a",
   "metadata": {},
   "outputs": [
    {
     "name": "stdout",
     "output_type": "stream",
     "text": [
      "[0.62046528 0.55475337 0.59106559 0.6754303  0.57230405 0.53180139\n",
      " 0.34584291 0.4804758  0.51354632 0.91496171 0.76890843 1.39316928\n",
      " 0.94989313 0.00842559 1.45311718 0.50498298 0.68105734 1.30774251\n",
      " 0.30577968 0.53248284]\n"
     ]
    }
   ],
   "source": [
    "ran_matrix = np.random.random((10, 2))\n",
    "x, y = ran_matrix[:, 0], ran_matrix[:, 1]\n",
    "coords = np.array((*np.sqrt(x ** 2 + y ** 2), *np.arctan2(y, x)))"
   ]
  },
  {
   "cell_type": "markdown",
   "id": "90181d15",
   "metadata": {},
   "source": [
    "53. How to convert a float (32 bits) array into an integer (32 bits) in place?"
   ]
  },
  {
   "cell_type": "code",
   "execution_count": 91,
   "id": "1130a1d5",
   "metadata": {},
   "outputs": [
    {
     "name": "stdout",
     "output_type": "stream",
     "text": [
      "[57 28 69 46  0 58 41 42 81 70]\n"
     ]
    }
   ],
   "source": [
    "a = (np.random.rand(10)*100).astype(np.float32)\n",
    "b = a.view(np.int32)\n",
    "b[:] = a"
   ]
  },
  {
   "cell_type": "markdown",
   "id": "b6bd92f2",
   "metadata": {},
   "source": [
    "58. Subtract the mean of each row of a matrix (★★☆)"
   ]
  },
  {
   "cell_type": "code",
   "execution_count": 96,
   "id": "c3c2c6fb",
   "metadata": {
    "scrolled": true
   },
   "outputs": [
    {
     "name": "stdout",
     "output_type": "stream",
     "text": [
      "[[ 0.15839622 -0.31758348  0.28067849 -0.09562406 -0.17506947 -0.31602088\n",
      "   0.08614203 -0.37716829  0.43565546  0.32059396]\n",
      " [-0.01007651  0.16281199 -0.34668157 -0.22917952  0.25546972  0.39656664\n",
      "   0.39486992 -0.25179779  0.20266056 -0.57464343]\n",
      " [ 0.39648129 -0.12768345 -0.16342311  0.31267391 -0.21319642 -0.2081899\n",
      "   0.33719805 -0.33315856 -0.23533827  0.23463646]\n",
      " [ 0.39350963 -0.00584402 -0.1395457  -0.11442535 -0.38897838 -0.22351724\n",
      "   0.2750129   0.13315122  0.29630531 -0.22566837]\n",
      " [-0.13880828  0.17772229 -0.2113539  -0.00720884  0.48281465  0.24076713\n",
      "  -0.22443907 -0.2069473  -0.1059929  -0.00655378]\n",
      " [-0.05263958 -0.44915372  0.27481303 -0.1450632   0.29460208 -0.0624108\n",
      "   0.06135738  0.49199426 -0.22147965 -0.1920198 ]\n",
      " [ 0.22770562  0.26600437 -0.12755266 -0.19155666 -0.03218269 -0.36277974\n",
      "  -0.22315991  0.26217525  0.09178575  0.08956067]\n",
      " [ 0.29887862 -0.1195781  -0.4146942  -0.34354451 -0.14410494  0.023982\n",
      "  -0.26350825  0.02739444  0.54606051  0.38911442]\n",
      " [-0.30482     0.00391624  0.12699334  0.39595097 -0.12475337  0.34780999\n",
      "  -0.38121431  0.16524921  0.14026602 -0.3693981 ]\n",
      " [-0.39724164 -0.44872283  0.19569804  0.37586491 -0.45561392 -0.2990654\n",
      "   0.4845558   0.42173927 -0.21317069  0.33595645]]\n"
     ]
    }
   ],
   "source": [
    "m = np.random.random((10, 10))\n",
    "m -= m.mean(axis=1).reshape(-1, 1)"
   ]
  }
 ],
 "metadata": {
  "kernelspec": {
   "display_name": "Python 3 (ipykernel)",
   "language": "python",
   "name": "python3"
  },
  "language_info": {
   "codemirror_mode": {
    "name": "ipython",
    "version": 3
   },
   "file_extension": ".py",
   "mimetype": "text/x-python",
   "name": "python",
   "nbconvert_exporter": "python",
   "pygments_lexer": "ipython3",
   "version": "3.10.2"
  }
 },
 "nbformat": 4,
 "nbformat_minor": 5
}
